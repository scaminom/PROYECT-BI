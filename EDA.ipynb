{
 "cells": [
  {
   "cell_type": "code",
   "execution_count": 1,
   "metadata": {},
   "outputs": [
    {
     "name": "stdout",
     "output_type": "stream",
     "text": [
      "Cargando datos...\n"
     ]
    }
   ],
   "source": [
    "# Importaciones necesarias\n",
    "import pandas as pd\n",
    "import numpy as np\n",
    "import matplotlib.pyplot as plt\n",
    "import seaborn as sns\n",
    "from utils.preprocessing import preprocesar_datos, guardar_datos_preprocesados\n",
    "\n",
    "# 1. Carga de datos\n",
    "print('Cargando datos...')\n",
    "df = pd.read_csv('demanda_producto.csv', sep=';') # raw data"
   ]
  },
  {
   "cell_type": "code",
   "execution_count": 2,
   "metadata": {},
   "outputs": [
    {
     "name": "stdout",
     "output_type": "stream",
     "text": [
      "=== Información básica del dataset ===\n",
      "<class 'pandas.core.frame.DataFrame'>\n",
      "RangeIndex: 95060 entries, 0 to 95059\n",
      "Data columns (total 11 columns):\n",
      " #   Column             Non-Null Count  Dtype \n",
      "---  ------             --------------  ----- \n",
      " 0   Product_Category   95060 non-null  object\n",
      " 1   Subcategory        95060 non-null  object\n",
      " 2   Material_Category  95060 non-null  object\n",
      " 3   Material_Type      95060 non-null  object\n",
      " 4   Thickness          95060 non-null  object\n",
      " 5   Waterproof_Rating  95060 non-null  object\n",
      " 6   Thermal_Rating     95060 non-null  object\n",
      " 7   Color_Family       95060 non-null  object\n",
      " 8   Pattern            95060 non-null  object\n",
      " 9   Style              95060 non-null  object\n",
      " 10  Season             95060 non-null  object\n",
      "dtypes: object(11)\n",
      "memory usage: 8.0+ MB\n"
     ]
    }
   ],
   "source": [
    "# 2. Información básica del dataset\n",
    "print(\"=== Información básica del dataset ===\")\n",
    "df.info()"
   ]
  },
  {
   "cell_type": "code",
   "execution_count": 3,
   "metadata": {},
   "outputs": [
    {
     "name": "stdout",
     "output_type": "stream",
     "text": [
      "=== Primeras 5 filas ===\n"
     ]
    },
    {
     "data": {
      "text/html": [
       "<div>\n",
       "<style scoped>\n",
       "    .dataframe tbody tr th:only-of-type {\n",
       "        vertical-align: middle;\n",
       "    }\n",
       "\n",
       "    .dataframe tbody tr th {\n",
       "        vertical-align: top;\n",
       "    }\n",
       "\n",
       "    .dataframe thead th {\n",
       "        text-align: right;\n",
       "    }\n",
       "</style>\n",
       "<table border=\"1\" class=\"dataframe\">\n",
       "  <thead>\n",
       "    <tr style=\"text-align: right;\">\n",
       "      <th></th>\n",
       "      <th>Product_Category</th>\n",
       "      <th>Subcategory</th>\n",
       "      <th>Material_Category</th>\n",
       "      <th>Material_Type</th>\n",
       "      <th>Thickness</th>\n",
       "      <th>Waterproof_Rating</th>\n",
       "      <th>Thermal_Rating</th>\n",
       "      <th>Color_Family</th>\n",
       "      <th>Pattern</th>\n",
       "      <th>Style</th>\n",
       "      <th>Season</th>\n",
       "    </tr>\n",
       "  </thead>\n",
       "  <tbody>\n",
       "    <tr>\n",
       "      <th>0</th>\n",
       "      <td>Bottoms</td>\n",
       "      <td>Pantalones</td>\n",
       "      <td>Técnico</td>\n",
       "      <td>Dri-FIT</td>\n",
       "      <td>Medio</td>\n",
       "      <td>No</td>\n",
       "      <td>Alto</td>\n",
       "      <td>Oscuro</td>\n",
       "      <td>Sólido</td>\n",
       "      <td>Formal</td>\n",
       "      <td>Winter</td>\n",
       "    </tr>\n",
       "    <tr>\n",
       "      <th>1</th>\n",
       "      <td>Tops</td>\n",
       "      <td>Sudaderas</td>\n",
       "      <td>Natural</td>\n",
       "      <td>Algodón</td>\n",
       "      <td>Ligero</td>\n",
       "      <td>Repelente</td>\n",
       "      <td>Bajo</td>\n",
       "      <td>Vibrante</td>\n",
       "      <td>Estampado</td>\n",
       "      <td>Deportivo</td>\n",
       "      <td>Summer</td>\n",
       "    </tr>\n",
       "    <tr>\n",
       "      <th>2</th>\n",
       "      <td>Dresses</td>\n",
       "      <td>Vestidos Formal</td>\n",
       "      <td>Natural</td>\n",
       "      <td>Algodón</td>\n",
       "      <td>Ligero</td>\n",
       "      <td>No</td>\n",
       "      <td>Bajo</td>\n",
       "      <td>Neutro</td>\n",
       "      <td>Estampado</td>\n",
       "      <td>Playa</td>\n",
       "      <td>Summer</td>\n",
       "    </tr>\n",
       "    <tr>\n",
       "      <th>3</th>\n",
       "      <td>Outerwear</td>\n",
       "      <td>Chaquetas</td>\n",
       "      <td>Técnico</td>\n",
       "      <td>Gore-Tex</td>\n",
       "      <td>Grueso</td>\n",
       "      <td>Impermeable</td>\n",
       "      <td>Muy Alto</td>\n",
       "      <td>Oscuro</td>\n",
       "      <td>Sólido</td>\n",
       "      <td>Casual</td>\n",
       "      <td>Winter</td>\n",
       "    </tr>\n",
       "    <tr>\n",
       "      <th>4</th>\n",
       "      <td>Bottoms</td>\n",
       "      <td>Faldas</td>\n",
       "      <td>Natural</td>\n",
       "      <td>Algodón</td>\n",
       "      <td>Medio</td>\n",
       "      <td>No</td>\n",
       "      <td>Bajo</td>\n",
       "      <td>Pastel</td>\n",
       "      <td>Rayas</td>\n",
       "      <td>Casual</td>\n",
       "      <td>Spring</td>\n",
       "    </tr>\n",
       "  </tbody>\n",
       "</table>\n",
       "</div>"
      ],
      "text/plain": [
       "  Product_Category      Subcategory Material_Category Material_Type Thickness  \\\n",
       "0          Bottoms       Pantalones           Técnico       Dri-FIT     Medio   \n",
       "1             Tops        Sudaderas           Natural       Algodón    Ligero   \n",
       "2          Dresses  Vestidos Formal           Natural       Algodón    Ligero   \n",
       "3        Outerwear        Chaquetas           Técnico      Gore-Tex    Grueso   \n",
       "4          Bottoms           Faldas           Natural       Algodón     Medio   \n",
       "\n",
       "  Waterproof_Rating Thermal_Rating Color_Family    Pattern      Style  Season  \n",
       "0                No           Alto       Oscuro     Sólido     Formal  Winter  \n",
       "1         Repelente           Bajo     Vibrante  Estampado  Deportivo  Summer  \n",
       "2                No           Bajo       Neutro  Estampado      Playa  Summer  \n",
       "3       Impermeable       Muy Alto       Oscuro     Sólido     Casual  Winter  \n",
       "4                No           Bajo       Pastel      Rayas     Casual  Spring  "
      ]
     },
     "execution_count": 3,
     "metadata": {},
     "output_type": "execute_result"
    }
   ],
   "source": [
    "# 3. Visualización de las primeras filas\n",
    "print(\"=== Primeras 5 filas ===\")\n",
    "df.head()"
   ]
  },
  {
   "cell_type": "code",
   "execution_count": 4,
   "metadata": {},
   "outputs": [
    {
     "name": "stdout",
     "output_type": "stream",
     "text": [
      "=== Análisis de valores nulos ===\n"
     ]
    },
    {
     "data": {
      "text/plain": [
       "Series([], dtype: int64)"
      ]
     },
     "execution_count": 4,
     "metadata": {},
     "output_type": "execute_result"
    }
   ],
   "source": [
    "# 4. Análisis de valores nulos\n",
    "print(\"=== Análisis de valores nulos ===\")\n",
    "nulos = df.isnull().sum()\n",
    "nulos[nulos > 0]"
   ]
  },
  {
   "cell_type": "code",
   "execution_count": 5,
   "metadata": {},
   "outputs": [
    {
     "name": "stdout",
     "output_type": "stream",
     "text": [
      "=== Estadísticas descriptivas ===\n"
     ]
    },
    {
     "data": {
      "text/html": [
       "<div>\n",
       "<style scoped>\n",
       "    .dataframe tbody tr th:only-of-type {\n",
       "        vertical-align: middle;\n",
       "    }\n",
       "\n",
       "    .dataframe tbody tr th {\n",
       "        vertical-align: top;\n",
       "    }\n",
       "\n",
       "    .dataframe thead th {\n",
       "        text-align: right;\n",
       "    }\n",
       "</style>\n",
       "<table border=\"1\" class=\"dataframe\">\n",
       "  <thead>\n",
       "    <tr style=\"text-align: right;\">\n",
       "      <th></th>\n",
       "      <th>Product_Category</th>\n",
       "      <th>Subcategory</th>\n",
       "      <th>Material_Category</th>\n",
       "      <th>Material_Type</th>\n",
       "      <th>Thickness</th>\n",
       "      <th>Waterproof_Rating</th>\n",
       "      <th>Thermal_Rating</th>\n",
       "      <th>Color_Family</th>\n",
       "      <th>Pattern</th>\n",
       "      <th>Style</th>\n",
       "      <th>Season</th>\n",
       "    </tr>\n",
       "  </thead>\n",
       "  <tbody>\n",
       "    <tr>\n",
       "      <th>count</th>\n",
       "      <td>95060</td>\n",
       "      <td>95060</td>\n",
       "      <td>95060</td>\n",
       "      <td>95060</td>\n",
       "      <td>95060</td>\n",
       "      <td>95060</td>\n",
       "      <td>95060</td>\n",
       "      <td>95060</td>\n",
       "      <td>95060</td>\n",
       "      <td>95060</td>\n",
       "      <td>95060</td>\n",
       "    </tr>\n",
       "    <tr>\n",
       "      <th>unique</th>\n",
       "      <td>7</td>\n",
       "      <td>25</td>\n",
       "      <td>3</td>\n",
       "      <td>10</td>\n",
       "      <td>3</td>\n",
       "      <td>3</td>\n",
       "      <td>4</td>\n",
       "      <td>4</td>\n",
       "      <td>5</td>\n",
       "      <td>4</td>\n",
       "      <td>4</td>\n",
       "    </tr>\n",
       "    <tr>\n",
       "      <th>top</th>\n",
       "      <td>Bottoms</td>\n",
       "      <td>Vestidos Playa</td>\n",
       "      <td>Natural</td>\n",
       "      <td>Algodón</td>\n",
       "      <td>Medio</td>\n",
       "      <td>No</td>\n",
       "      <td>Bajo</td>\n",
       "      <td>Neutro</td>\n",
       "      <td>Sólido</td>\n",
       "      <td>Formal</td>\n",
       "      <td>Winter</td>\n",
       "    </tr>\n",
       "    <tr>\n",
       "      <th>freq</th>\n",
       "      <td>14755</td>\n",
       "      <td>6125</td>\n",
       "      <td>38006</td>\n",
       "      <td>13742</td>\n",
       "      <td>39496</td>\n",
       "      <td>46247</td>\n",
       "      <td>36068</td>\n",
       "      <td>26128</td>\n",
       "      <td>26203</td>\n",
       "      <td>26294</td>\n",
       "      <td>23765</td>\n",
       "    </tr>\n",
       "  </tbody>\n",
       "</table>\n",
       "</div>"
      ],
      "text/plain": [
       "       Product_Category     Subcategory Material_Category Material_Type  \\\n",
       "count             95060           95060             95060         95060   \n",
       "unique                7              25                 3            10   \n",
       "top             Bottoms  Vestidos Playa           Natural       Algodón   \n",
       "freq              14755            6125             38006         13742   \n",
       "\n",
       "       Thickness Waterproof_Rating Thermal_Rating Color_Family Pattern  \\\n",
       "count      95060             95060          95060        95060   95060   \n",
       "unique         3                 3              4            4       5   \n",
       "top        Medio                No           Bajo       Neutro  Sólido   \n",
       "freq       39496             46247          36068        26128   26203   \n",
       "\n",
       "         Style  Season  \n",
       "count    95060   95060  \n",
       "unique       4       4  \n",
       "top     Formal  Winter  \n",
       "freq     26294   23765  "
      ]
     },
     "execution_count": 5,
     "metadata": {},
     "output_type": "execute_result"
    }
   ],
   "source": [
    "# 5. Estadísticas descriptivas\n",
    "print(\"=== Estadísticas descriptivas ===\")\n",
    "df.describe()"
   ]
  },
  {
   "cell_type": "code",
   "execution_count": 6,
   "metadata": {},
   "outputs": [
    {
     "data": {
      "image/png": "[encoded data removed]",
      "text/plain": [
       "<Figure size 1000x600 with 1 Axes>"
      ]
     },
     "metadata": {},
     "output_type": "display_data"
    }
   ],
   "source": [
    "# 6. Visualización de la distribución de clases\n",
    "plt.figure(figsize=(10, 6))\n",
    "df['Season'].value_counts().plot(kind='bar')\n",
    "plt.title('Distribución de Clases de Rentabilidad')\n",
    "plt.xlabel('Clase')\n",
    "plt.ylabel('Cantidad')\n",
    "plt.xticks(rotation=45)\n",
    "plt.tight_layout()\n",
    "plt.show()"
   ]
  },
  {
   "cell_type": "code",
   "execution_count": 7,
   "metadata": {},
   "outputs": [],
   "source": [
    "# 7. Matriz de correlación\n",
    "# numerical_cols = df.select_dtypes(include=[np.number]).columns\n",
    "# plt.figure(figsize=(12, 8))\n",
    "# sns.heatmap(df[numerical_cols].corr(), annot=True, cmap='coolwarm', center=0)\n",
    "# plt.title('Matriz de Correlación - Variables Numéricas')\n",
    "# plt.tight_layout()\n",
    "# plt.show()"
   ]
  },
  {
   "cell_type": "code",
   "execution_count": 8,
   "metadata": {},
   "outputs": [
    {
     "name": "stdout",
     "output_type": "stream",
     "text": [
      "=== Realizando preprocesamiento ===\n",
      "\n",
      "=== Iniciando preprocesamiento de datos ===\n",
      "\n",
      "Información inicial del dataset:\n",
      "Dimensiones: (95060, 11)\n",
      "\n",
      "Distribución inicial de temporadas:\n",
      "Season\n",
      "Winter    23765\n",
      "Summer    23765\n",
      "Spring    23765\n",
      "Fall      23765\n",
      "Name: count, dtype: int64\n",
      "\n",
      "Tratamiento de valores nulos...\n",
      "\n",
      "Aplicando encoding a variables categóricas...\n",
      "Label encoding aplicado a: Product_Category\n",
      "Label encoding aplicado a: Subcategory\n",
      "Label encoding aplicado a: Material_Category\n",
      "Label encoding aplicado a: Material_Type\n",
      "Label encoding aplicado a: Waterproof_Rating\n",
      "Label encoding aplicado a: Thermal_Rating\n",
      "Label encoding aplicado a: Color_Family\n",
      "Label encoding aplicado a: Pattern\n",
      "Label encoding aplicado a: Style\n",
      "One-hot encoding aplicado a: Thickness\n",
      "\n",
      "Separando features y target...\n",
      "\n",
      "Aplicando escalamiento a variables numéricas...\n",
      "Escalamiento aplicado a: 12 columnas\n",
      "\n",
      "Codificando variable objetivo...\n",
      "Mapeo de temporadas: {'Fall': np.int64(0), 'Spring': np.int64(1), 'Summer': np.int64(2), 'Winter': np.int64(3)}\n",
      "\n",
      "Realizando división train-test...\n",
      "\n",
      "Verificando valores nulos antes de SMOTE:\n",
      "\n",
      "Aplicando balanceo de clases...\n",
      "Distribución antes del balanceo:\n",
      "1    19012\n",
      "0    19012\n",
      "3    19012\n",
      "2    19012\n",
      "Name: count, dtype: int64\n",
      "\n",
      "Distribución después del balanceo:\n",
      "2    18209\n",
      "3    17986\n",
      "1    17016\n",
      "0    16805\n",
      "Name: count, dtype: int64\n",
      "\n",
      "=== Preprocesamiento completado ===\n",
      "Dimensiones finales:\n",
      "X_train: (70016, 12)\n",
      "X_test: (19012, 12)\n"
     ]
    }
   ],
   "source": [
    "# 8. Preprocesamiento de datos\n",
    "print(\"=== Realizando preprocesamiento ===\")\n",
    "resultados = preprocesar_datos(df)"
   ]
  },
  {
   "cell_type": "code",
   "execution_count": 9,
   "metadata": {},
   "outputs": [
    {
     "name": "stdout",
     "output_type": "stream",
     "text": [
      "=== Distribución de clases en el conjunto de entrenamiento ===\n",
      "Clase 0: 16805 muestras\n",
      "Clase 1: 17016 muestras\n",
      "Clase 2: 18209 muestras\n",
      "Clase 3: 17986 muestras\n"
     ]
    }
   ],
   "source": [
    "# 9. Verificación del preprocesamiento - Distribución de clases\n",
    "print(\"=== Distribución de clases en el conjunto de entrenamiento ===\")\n",
    "clases_unicas, conteos = np.unique(resultados['y_train'], return_counts=True)\n",
    "for clase, conteo in zip(clases_unicas, conteos):\n",
    "    print(f\"Clase {clase}: {conteo} muestras\")"
   ]
  },
  {
   "cell_type": "code",
   "execution_count": 10,
   "metadata": {},
   "outputs": [
    {
     "name": "stdout",
     "output_type": "stream",
     "text": [
      "=== Formas de los conjuntos de datos ===\n",
      "X_train: (70016, 12)\n",
      "X_test: (19012, 12)\n",
      "y_train: (70016,)\n",
      "y_test: (19012,)\n"
     ]
    }
   ],
   "source": [
    "# 10. Verificación del preprocesamiento - Formas de los conjuntos\n",
    "print(\"=== Formas de los conjuntos de datos ===\")\n",
    "print(f\"X_train: {resultados['X_train'].shape}\")\n",
    "print(f\"X_test: {resultados['X_test'].shape}\")\n",
    "print(f\"y_train: {resultados['y_train'].shape}\")\n",
    "print(f\"y_test: {resultados['y_test'].shape}\")"
   ]
  },
  {
   "cell_type": "code",
   "execution_count": 11,
   "metadata": {},
   "outputs": [
    {
     "name": "stdout",
     "output_type": "stream",
     "text": [
      "=== Rango de valores después del escalamiento (X_train) ===\n",
      "Product_Category: [-0.75, 0.75]\n",
      "Subcategory: [-1.00, 0.85]\n",
      "Material_Category: [-0.50, 0.50]\n",
      "Material_Type: [-1.00, 1.25]\n",
      "Waterproof_Rating: [-1.00, 1.00]\n",
      "Thermal_Rating: [-1.00, 2.00]\n",
      "Color_Family: [-0.33, 0.67]\n",
      "Pattern: [-0.67, 0.67]\n",
      "Style: [-0.50, 1.00]\n",
      "Thickness_Grueso: [0.00, 1.00]\n",
      "Thickness_Ligero: [0.00, 1.00]\n",
      "Thickness_Medio: [0.00, 1.00]\n"
     ]
    }
   ],
   "source": [
    "# 11. Verificación del preprocesamiento - Rango de valores\n",
    "print(\"=== Rango de valores después del escalamiento (X_train) ===\")\n",
    "for columna in resultados['X_train'].columns:\n",
    "    min_val = resultados['X_train'][columna].min()\n",
    "    max_val = resultados['X_train'][columna].max()\n",
    "    print(f\"{columna}: [{min_val:.2f}, {max_val:.2f}]\")"
   ]
  },
  {
   "cell_type": "code",
   "execution_count": 12,
   "metadata": {},
   "outputs": [
    {
     "name": "stdout",
     "output_type": "stream",
     "text": [
      "=== Guardando datos preprocesados ===\n",
      "Guardando datos principales...\n",
      "Guardando encoders...\n",
      "Guardando archivos CSV...\n",
      "Guardado completado exitosamente en: c:\\Users\\patri\\Documents\\workspaces\\python\\PROYECT-BI\\datos\n",
      "\n",
      "Archivos guardados:\n",
      "- preprocessors.pkl\n",
      "- test_processed.csv\n",
      "- train_processed.csv\n",
      "- X_test.npy\n",
      "- X_train.npy\n",
      "- y_test.npy\n",
      "- y_train.npy\n",
      "¡Proceso completado con éxito!\n"
     ]
    }
   ],
   "source": [
    "# 12. Guardar datos preprocesados\n",
    "print(\"=== Guardando datos preprocesados ===\")\n",
    "guardar_datos_preprocesados(resultados)\n",
    "print(\"¡Proceso completado con éxito!\")"
   ]
  }
 ],
 "metadata": {
  "kernelspec": {
   "display_name": "venv",
   "language": "python",
   "name": "python3"
  },
  "language_info": {
   "codemirror_mode": {
    "name": "ipython",
    "version": 3
   },
   "file_extension": ".py",
   "mimetype": "text/x-python",
   "name": "python",
   "nbconvert_exporter": "python",
   "pygments_lexer": "ipython3",
   "version": "3.12.6"
  }
 },
 "nbformat": 4,
 "nbformat_minor": 2
}
