{
 "cells": [
  {
   "cell_type": "code",
   "execution_count": 1,
   "metadata": {},
   "outputs": [
    {
     "name": "stdout",
     "output_type": "stream",
     "text": [
      "Cargando datos...\n"
     ]
    }
   ],
   "source": [
    "# Importaciones necesarias\n",
    "import pandas as pd\n",
    "import numpy as np\n",
    "import matplotlib.pyplot as plt\n",
    "import seaborn as sns\n",
    "from utils.preprocessing import preprocesar_datos, guardar_datos_preprocesados\n",
    "\n",
    "# 1. Carga de datos\n",
    "print('Cargando datos...')\n",
    "df = pd.read_csv('remove_correlated_data.csv') # raw data"
   ]
  },
  {
   "cell_type": "code",
   "execution_count": null,
   "metadata": {},
   "outputs": [
    {
     "name": "stdout",
     "output_type": "stream",
     "text": [
      "=== Información básica del dataset ===\n",
      "<class 'pandas.core.frame.DataFrame'>\n",
      "RangeIndex: 95412 entries, 0 to 95411\n",
      "Data columns (total 9 columns):\n",
      " #   Column                 Non-Null Count  Dtype  \n",
      "---  ------                 --------------  -----  \n",
      " 0   Stock Item Key         95412 non-null  int64  \n",
      " 1   Size                   67572 non-null  object \n",
      " 2   Calendar Month Number  95412 non-null  int64  \n",
      " 3   Month                  95412 non-null  object \n",
      " 4   State Province         95412 non-null  object \n",
      " 5   Unique_Customers       95412 non-null  int64  \n",
      " 6   Total_Profit           95412 non-null  float64\n",
      " 7   Avg_Monthly_Sales      95412 non-null  int64  \n",
      " 8   Season                 95412 non-null  object \n",
      "dtypes: float64(1), int64(4), object(4)\n",
      "memory usage: 6.6+ MB\n"
     ]
    }
   ],
   "source": [
    "# 2. Información básica del dataset\n",
    "print(\"=== Información básica del dataset ===\")\n",
    "df.info()"
   ]
  },
  {
   "cell_type": "code",
   "execution_count": 3,
   "metadata": {},
   "outputs": [
    {
     "name": "stdout",
     "output_type": "stream",
     "text": [
      "=== Primeras 5 filas ===\n"
     ]
    },
    {
     "data": {
      "text/html": [
       "<div>\n",
       "<style scoped>\n",
       "    .dataframe tbody tr th:only-of-type {\n",
       "        vertical-align: middle;\n",
       "    }\n",
       "\n",
       "    .dataframe tbody tr th {\n",
       "        vertical-align: top;\n",
       "    }\n",
       "\n",
       "    .dataframe thead th {\n",
       "        text-align: right;\n",
       "    }\n",
       "</style>\n",
       "<table border=\"1\" class=\"dataframe\">\n",
       "  <thead>\n",
       "    <tr style=\"text-align: right;\">\n",
       "      <th></th>\n",
       "      <th>Stock Item Key</th>\n",
       "      <th>Size</th>\n",
       "      <th>Calendar Month Number</th>\n",
       "      <th>Month</th>\n",
       "      <th>State Province</th>\n",
       "      <th>Unique_Customers</th>\n",
       "      <th>Total_Profit</th>\n",
       "      <th>Avg_Monthly_Sales</th>\n",
       "      <th>Season</th>\n",
       "    </tr>\n",
       "  </thead>\n",
       "  <tbody>\n",
       "    <tr>\n",
       "      <th>0</th>\n",
       "      <td>5</td>\n",
       "      <td>NaN</td>\n",
       "      <td>3</td>\n",
       "      <td>March</td>\n",
       "      <td>Idaho</td>\n",
       "      <td>1</td>\n",
       "      <td>7590.0</td>\n",
       "      <td>13</td>\n",
       "      <td>Spring</td>\n",
       "    </tr>\n",
       "    <tr>\n",
       "      <th>1</th>\n",
       "      <td>5</td>\n",
       "      <td>NaN</td>\n",
       "      <td>3</td>\n",
       "      <td>March</td>\n",
       "      <td>Wyoming</td>\n",
       "      <td>1</td>\n",
       "      <td>1518.0</td>\n",
       "      <td>13</td>\n",
       "      <td>Spring</td>\n",
       "    </tr>\n",
       "    <tr>\n",
       "      <th>2</th>\n",
       "      <td>5</td>\n",
       "      <td>NaN</td>\n",
       "      <td>3</td>\n",
       "      <td>March</td>\n",
       "      <td>Pennsylvania</td>\n",
       "      <td>3</td>\n",
       "      <td>11385.0</td>\n",
       "      <td>13</td>\n",
       "      <td>Spring</td>\n",
       "    </tr>\n",
       "    <tr>\n",
       "      <th>3</th>\n",
       "      <td>5</td>\n",
       "      <td>NaN</td>\n",
       "      <td>3</td>\n",
       "      <td>March</td>\n",
       "      <td>Maine</td>\n",
       "      <td>1</td>\n",
       "      <td>2277.0</td>\n",
       "      <td>13</td>\n",
       "      <td>Spring</td>\n",
       "    </tr>\n",
       "    <tr>\n",
       "      <th>4</th>\n",
       "      <td>5</td>\n",
       "      <td>NaN</td>\n",
       "      <td>3</td>\n",
       "      <td>March</td>\n",
       "      <td>Massachusetts[E]</td>\n",
       "      <td>2</td>\n",
       "      <td>13662.0</td>\n",
       "      <td>13</td>\n",
       "      <td>Spring</td>\n",
       "    </tr>\n",
       "  </tbody>\n",
       "</table>\n",
       "</div>"
      ],
      "text/plain": [
       "   Stock Item Key Size  Calendar Month Number  Month    State Province  \\\n",
       "0               5  NaN                      3  March             Idaho   \n",
       "1               5  NaN                      3  March           Wyoming   \n",
       "2               5  NaN                      3  March      Pennsylvania   \n",
       "3               5  NaN                      3  March             Maine   \n",
       "4               5  NaN                      3  March  Massachusetts[E]   \n",
       "\n",
       "   Unique_Customers  Total_Profit  Avg_Monthly_Sales  Season  \n",
       "0                 1        7590.0                 13  Spring  \n",
       "1                 1        1518.0                 13  Spring  \n",
       "2                 3       11385.0                 13  Spring  \n",
       "3                 1        2277.0                 13  Spring  \n",
       "4                 2       13662.0                 13  Spring  "
      ]
     },
     "execution_count": 3,
     "metadata": {},
     "output_type": "execute_result"
    }
   ],
   "source": [
    "# 3. Visualización de las primeras filas\n",
    "print(\"=== Primeras 5 filas ===\")\n",
    "df.head()"
   ]
  },
  {
   "cell_type": "code",
   "execution_count": 4,
   "metadata": {},
   "outputs": [
    {
     "name": "stdout",
     "output_type": "stream",
     "text": [
      "=== Análisis de valores nulos ===\n"
     ]
    },
    {
     "data": {
      "text/plain": [
       "Size    27840\n",
       "dtype: int64"
      ]
     },
     "execution_count": 4,
     "metadata": {},
     "output_type": "execute_result"
    }
   ],
   "source": [
    "# 4. Análisis de valores nulos\n",
    "print(\"=== Análisis de valores nulos ===\")\n",
    "nulos = df.isnull().sum()\n",
    "nulos[nulos > 0]"
   ]
  },
  {
   "cell_type": "code",
   "execution_count": 5,
   "metadata": {},
   "outputs": [
    {
     "name": "stdout",
     "output_type": "stream",
     "text": [
      "=== Estadísticas descriptivas ===\n"
     ]
    },
    {
     "data": {
      "text/html": [
       "<div>\n",
       "<style scoped>\n",
       "    .dataframe tbody tr th:only-of-type {\n",
       "        vertical-align: middle;\n",
       "    }\n",
       "\n",
       "    .dataframe tbody tr th {\n",
       "        vertical-align: top;\n",
       "    }\n",
       "\n",
       "    .dataframe thead th {\n",
       "        text-align: right;\n",
       "    }\n",
       "</style>\n",
       "<table border=\"1\" class=\"dataframe\">\n",
       "  <thead>\n",
       "    <tr style=\"text-align: right;\">\n",
       "      <th></th>\n",
       "      <th>Stock Item Key</th>\n",
       "      <th>Calendar Month Number</th>\n",
       "      <th>Unique_Customers</th>\n",
       "      <th>Total_Profit</th>\n",
       "      <th>Avg_Monthly_Sales</th>\n",
       "    </tr>\n",
       "  </thead>\n",
       "  <tbody>\n",
       "    <tr>\n",
       "      <th>count</th>\n",
       "      <td>95412.000000</td>\n",
       "      <td>95412.000000</td>\n",
       "      <td>95412.000000</td>\n",
       "      <td>95412.000000</td>\n",
       "      <td>95412.000000</td>\n",
       "    </tr>\n",
       "    <tr>\n",
       "      <th>mean</th>\n",
       "      <td>110.981889</td>\n",
       "      <td>6.317602</td>\n",
       "      <td>1.987716</td>\n",
       "      <td>898.515710</td>\n",
       "      <td>93.337704</td>\n",
       "    </tr>\n",
       "    <tr>\n",
       "      <th>std</th>\n",
       "      <td>63.880897</td>\n",
       "      <td>3.449264</td>\n",
       "      <td>1.246961</td>\n",
       "      <td>2111.330662</td>\n",
       "      <td>108.701118</td>\n",
       "    </tr>\n",
       "    <tr>\n",
       "      <th>min</th>\n",
       "      <td>1.000000</td>\n",
       "      <td>1.000000</td>\n",
       "      <td>1.000000</td>\n",
       "      <td>-864.000000</td>\n",
       "      <td>8.000000</td>\n",
       "    </tr>\n",
       "    <tr>\n",
       "      <th>25%</th>\n",
       "      <td>56.000000</td>\n",
       "      <td>3.000000</td>\n",
       "      <td>1.000000</td>\n",
       "      <td>102.000000</td>\n",
       "      <td>12.000000</td>\n",
       "    </tr>\n",
       "    <tr>\n",
       "      <th>50%</th>\n",
       "      <td>110.000000</td>\n",
       "      <td>6.000000</td>\n",
       "      <td>2.000000</td>\n",
       "      <td>263.500000</td>\n",
       "      <td>16.000000</td>\n",
       "    </tr>\n",
       "    <tr>\n",
       "      <th>75%</th>\n",
       "      <td>167.000000</td>\n",
       "      <td>9.000000</td>\n",
       "      <td>3.000000</td>\n",
       "      <td>850.000000</td>\n",
       "      <td>150.000000</td>\n",
       "    </tr>\n",
       "    <tr>\n",
       "      <th>max</th>\n",
       "      <td>227.000000</td>\n",
       "      <td>12.000000</td>\n",
       "      <td>11.000000</td>\n",
       "      <td>57960.000000</td>\n",
       "      <td>606.000000</td>\n",
       "    </tr>\n",
       "  </tbody>\n",
       "</table>\n",
       "</div>"
      ],
      "text/plain": [
       "       Stock Item Key  Calendar Month Number  Unique_Customers  Total_Profit  \\\n",
       "count    95412.000000           95412.000000      95412.000000  95412.000000   \n",
       "mean       110.981889               6.317602          1.987716    898.515710   \n",
       "std         63.880897               3.449264          1.246961   2111.330662   \n",
       "min          1.000000               1.000000          1.000000   -864.000000   \n",
       "25%         56.000000               3.000000          1.000000    102.000000   \n",
       "50%        110.000000               6.000000          2.000000    263.500000   \n",
       "75%        167.000000               9.000000          3.000000    850.000000   \n",
       "max        227.000000              12.000000         11.000000  57960.000000   \n",
       "\n",
       "       Avg_Monthly_Sales  \n",
       "count       95412.000000  \n",
       "mean           93.337704  \n",
       "std           108.701118  \n",
       "min             8.000000  \n",
       "25%            12.000000  \n",
       "50%            16.000000  \n",
       "75%           150.000000  \n",
       "max           606.000000  "
      ]
     },
     "execution_count": 5,
     "metadata": {},
     "output_type": "execute_result"
    }
   ],
   "source": [
    "# 5. Estadísticas descriptivas\n",
    "print(\"=== Estadísticas descriptivas ===\")\n",
    "df.describe()"
   ]
  },
  {
   "cell_type": "code",
   "execution_count": 6,
   "metadata": {},
   "outputs": [
    {
     "data": {
      "image/png": "[encoded data removed]",
      "text/plain": [
       "<Figure size 1000x600 with 1 Axes>"
      ]
     },
     "metadata": {},
     "output_type": "display_data"
    }
   ],
   "source": [
    "# 6. Visualización de la distribución de clases\n",
    "plt.figure(figsize=(10, 6))\n",
    "df['Season'].value_counts().plot(kind='bar')\n",
    "plt.title('Distribución de Clases de Rentabilidad')\n",
    "plt.xlabel('Clase')\n",
    "plt.ylabel('Cantidad')\n",
    "plt.xticks(rotation=45)\n",
    "plt.tight_layout()\n",
    "plt.show()"
   ]
  },
  {
   "cell_type": "code",
   "execution_count": 7,
   "metadata": {},
   "outputs": [
    {
     "data": {
      "image/png": "[encoded data removed]",
      "text/plain": [
       "<Figure size 1200x800 with 2 Axes>"
      ]
     },
     "metadata": {},
     "output_type": "display_data"
    }
   ],
   "source": [
    "# 7. Matriz de correlación\n",
    "numerical_cols = df.select_dtypes(include=[np.number]).columns\n",
    "plt.figure(figsize=(12, 8))\n",
    "sns.heatmap(df[numerical_cols].corr(), annot=True, cmap='coolwarm', center=0)\n",
    "plt.title('Matriz de Correlación - Variables Numéricas')\n",
    "plt.tight_layout()\n",
    "plt.show()"
   ]
  },
  {
   "cell_type": "code",
   "execution_count": 8,
   "metadata": {},
   "outputs": [
    {
     "name": "stdout",
     "output_type": "stream",
     "text": [
      "=== Realizando preprocesamiento ===\n",
      "\n",
      "Verificando valores nulos antes de SMOTE:\n"
     ]
    }
   ],
   "source": [
    "# 8. Preprocesamiento de datos\n",
    "print(\"=== Realizando preprocesamiento ===\")\n",
    "resultados = preprocesar_datos(df)"
   ]
  },
  {
   "cell_type": "code",
   "execution_count": 9,
   "metadata": {},
   "outputs": [
    {
     "name": "stdout",
     "output_type": "stream",
     "text": [
      "=== Distribución de clases en el conjunto de entrenamiento ===\n",
      "Clase 0: 20834 muestras\n",
      "Clase 1: 20355 muestras\n",
      "Clase 2: 20019 muestras\n",
      "Clase 3: 20496 muestras\n"
     ]
    }
   ],
   "source": [
    "# 9. Verificación del preprocesamiento - Distribución de clases\n",
    "print(\"=== Distribución de clases en el conjunto de entrenamiento ===\")\n",
    "clases_unicas, conteos = np.unique(resultados['y_train'], return_counts=True)\n",
    "for clase, conteo in zip(clases_unicas, conteos):\n",
    "    print(f\"Clase {clase}: {conteo} muestras\")"
   ]
  },
  {
   "cell_type": "code",
   "execution_count": 10,
   "metadata": {},
   "outputs": [
    {
     "name": "stdout",
     "output_type": "stream",
     "text": [
      "=== Formas de los conjuntos de datos ===\n",
      "X_train: (81704, 8)\n",
      "X_test: (19083, 8)\n",
      "y_train: (81704,)\n",
      "y_test: (19083,)\n"
     ]
    }
   ],
   "source": [
    "# 10. Verificación del preprocesamiento - Formas de los conjuntos\n",
    "print(\"=== Formas de los conjuntos de datos ===\")\n",
    "print(f\"X_train: {resultados['X_train'].shape}\")\n",
    "print(f\"X_test: {resultados['X_test'].shape}\")\n",
    "print(f\"y_train: {resultados['y_train'].shape}\")\n",
    "print(f\"y_test: {resultados['y_test'].shape}\")"
   ]
  },
  {
   "cell_type": "code",
   "execution_count": 11,
   "metadata": {},
   "outputs": [
    {
     "name": "stdout",
     "output_type": "stream",
     "text": [
      "=== Rango de valores después del escalamiento (X_train) ===\n",
      "Stock Item Key: [1.00, 227.00]\n",
      "Size: [0.00, 43.00]\n",
      "Calendar Month Number: [-0.83, 1.00]\n",
      "Month: [0.00, 11.00]\n",
      "State Province: [0.00, 48.00]\n",
      "Unique_Customers: [-0.50, 4.50]\n",
      "Total_Profit: [-1.51, 2.28]\n",
      "Avg_Monthly_Sales: [-0.06, 4.28]\n"
     ]
    }
   ],
   "source": [
    "# 11. Verificación del preprocesamiento - Rango de valores\n",
    "print(\"=== Rango de valores después del escalamiento (X_train) ===\")\n",
    "for columna in resultados['X_train'].columns:\n",
    "    min_val = resultados['X_train'][columna].min()\n",
    "    max_val = resultados['X_train'][columna].max()\n",
    "    print(f\"{columna}: [{min_val:.2f}, {max_val:.2f}]\")"
   ]
  },
  {
   "cell_type": "code",
   "execution_count": 12,
   "metadata": {},
   "outputs": [
    {
     "name": "stdout",
     "output_type": "stream",
     "text": [
      "=== Guardando datos preprocesados ===\n",
      "¡Proceso completado con éxito!\n"
     ]
    }
   ],
   "source": [
    "# 12. Guardar datos preprocesados\n",
    "print(\"=== Guardando datos preprocesados ===\")\n",
    "guardar_datos_preprocesados(resultados)\n",
    "print(\"¡Proceso completado con éxito!\")"
   ]
  }
 ],
 "metadata": {
  "kernelspec": {
   "display_name": "venv",
   "language": "python",
   "name": "python3"
  },
  "language_info": {
   "codemirror_mode": {
    "name": "ipython",
    "version": 3
   },
   "file_extension": ".py",
   "mimetype": "text/x-python",
   "name": "python",
   "nbconvert_exporter": "python",
   "pygments_lexer": "ipython3",
   "version": "3.12.6"
  }
 },
 "nbformat": 4,
 "nbformat_minor": 2
}
